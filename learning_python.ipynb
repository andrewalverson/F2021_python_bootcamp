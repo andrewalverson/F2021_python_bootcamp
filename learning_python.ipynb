{
  "nbformat": 4,
  "nbformat_minor": 0,
  "metadata": {
    "colab": {
      "name": "learning_python.ipynb",
      "provenance": [],
      "collapsed_sections": []
    },
    "kernelspec": {
      "name": "python3",
      "display_name": "Python 3"
    },
    "language_info": {
      "name": "python"
    }
  },
  "cells": [
    {
      "cell_type": "code",
      "metadata": {
        "colab": {
          "base_uri": "https://localhost:8080/"
        },
        "id": "sQMEWVg8-wAZ",
        "outputId": "a9e75af9-74e4-4e58-c451-f8f72f9c590e"
      },
      "source": [
        "!git clone https://github.com/andrewalverson/F2021_python_bootcamp"
      ],
      "execution_count": null,
      "outputs": [
        {
          "output_type": "stream",
          "name": "stdout",
          "text": [
            "Cloning into 'F2021_python_bootcamp'...\n",
            "remote: Enumerating objects: 102, done.\u001b[K\n",
            "remote: Counting objects: 100% (102/102), done.\u001b[K\n",
            "remote: Compressing objects: 100% (70/70), done.\u001b[K\n",
            "remote: Total 102 (delta 46), reused 80 (delta 24), pack-reused 0\u001b[K\n",
            "Receiving objects: 100% (102/102), 544.95 KiB | 10.48 MiB/s, done.\n",
            "Resolving deltas: 100% (46/46), done.\n"
          ]
        }
      ]
    },
    {
      "cell_type": "code",
      "metadata": {
        "colab": {
          "base_uri": "https://localhost:8080/"
        },
        "id": "8_HGfDanNKkq",
        "outputId": "f32b0dbc-0ee4-4279-dace-77d71bd6725c"
      },
      "source": [
        "!cat F2021_python_bootcamp/data/covid_genes.gff3"
      ],
      "execution_count": null,
      "outputs": [
        {
          "output_type": "stream",
          "name": "stdout",
          "text": [
            "NC_045512.2\tRefSeq\tCDS\t266\t13468\t.\t+\t0\tID=cds-YP_009724389.1;Parent=gene-GU280_gp01;Dbxref=Genbank:YP_009724389.1,GeneID:43740578;Name=YP_009724389.1;Note=pp1ab%3B translated by -1 ribosomal frameshift;exception=ribosomal slippage;gbkey=CDS;gene=ORF1ab;locus_tag=GU280_gp01;product=ORF1ab polyprotein;protein_id=YP_009724389.1\n",
            "NC_045512.2\tRefSeq\tCDS\t266\t13483\t.\t+\t0\tID=cds-YP_009725295.1;Parent=gene-GU280_gp01;Dbxref=Genbank:YP_009725295.1,GeneID:43740578;Name=YP_009725295.1;Note=pp1a;gbkey=CDS;gene=ORF1ab;locus_tag=GU280_gp01;product=ORF1a polyprotein;protein_id=YP_009725295.1\n",
            "NC_045512.2\tRefSeq\tgene\t266\t21555\t.\t+\t.\tID=ORF1ab\n",
            "NC_045512.2\tRefSeq\tCDS\t13468\t21555\t.\t+\t0\tID=cds-YP_009724389.1;Parent=gene-GU280_gp01;Dbxref=Genbank:YP_009724389.1,GeneID:43740578;Name=YP_009724389.1;Note=pp1ab%3B translated by -1 ribosomal frameshift;exception=ribosomal slippage;gbkey=CDS;gene=ORF1ab;locus_tag=GU280_gp01;product=ORF1ab polyprotein;protein_id=YP_009724389.1\n",
            "NC_045512.2\tRefSeq\tstem_loop\t13476\t13503\t.\t+\t.\tID=id-GU280_gp01;Dbxref=GeneID:43740578;function=Coronavirus frameshifting stimulation element stem-loop 1;gbkey=stem_loop;gene=ORF1ab;inference=COORDINATES: profile:Rfam-release-14.1:RF00507%2CInfernal:1.1.2;locus_tag=GU280_gp01\n",
            "NC_045512.2\tRefSeq\tstem_loop\t13488\t13542\t.\t+\t.\tID=id-GU280_gp01-2;Dbxref=GeneID:43740578;function=Coronavirus frameshifting stimulation element stem-loop 2;gbkey=stem_loop;gene=ORF1ab;inference=COORDINATES: profile:Rfam-release-14.1:RF00507%2CInfernal:1.1.2;locus_tag=GU280_gp01\n",
            "NC_045512.2\tRefSeq\tCDS\t21563\t25384\t.\t+\t0\tID=cds-YP_009724390.1;Parent=gene-GU280_gp02;Dbxref=Genbank:YP_009724390.1,GeneID:43740568;Name=YP_009724390.1;Note=structural protein%3B spike protein;gbkey=CDS;gene=S;locus_tag=GU280_gp02;product=surface glycoprotein;protein_id=YP_009724390.1\n",
            "NC_045512.2\tRefSeq\tgene\t21563\t25384\t.\t+\t.\tID=spike glycoprotein\n",
            "NC_045512.2\tRefSeq\tCDS\t25393\t26220\t.\t+\t0\tID=cds-YP_009724391.1;Parent=gene-GU280_gp03;Dbxref=Genbank:YP_009724391.1,GeneID:43740569;Name=YP_009724391.1;gbkey=CDS;gene=ORF3a;locus_tag=GU280_gp03;product=ORF3a protein;protein_id=YP_009724391.1\n",
            "NC_045512.2\tRefSeq\tgene\t25393\t26220\t.\t+\t.\tID=ORF3a\n",
            "NC_045512.2\tRefSeq\tCDS\t26245\t26472\t.\t+\t0\tID=cds-YP_009724392.1;Parent=gene-GU280_gp04;Dbxref=Genbank:YP_009724392.1,GeneID:43740570;Name=YP_009724392.1;Note=ORF4%3B structural protein%3B E protein;gbkey=CDS;gene=E;locus_tag=GU280_gp04;product=envelope protein;protein_id=YP_009724392.1\n",
            "NC_045512.2\tRefSeq\tgene\t26245\t26472\t.\t+\t.\tID=geneE\n",
            "NC_045512.2\tRefSeq\tCDS\t26523\t27191\t.\t+\t0\tID=cds-YP_009724393.1;Parent=gene-GU280_gp05;Dbxref=Genbank:YP_009724393.1,GeneID:43740571;Name=YP_009724393.1;Note=ORF5%3B structural protein;gbkey=CDS;gene=M;locus_tag=GU280_gp05;product=membrane glycoprotein;protein_id=YP_009724393.1\n",
            "NC_045512.2\tRefSeq\tgene\t26523\t27191\t.\t+\t.\tID=geneM\n",
            "NC_045512.2\tRefSeq\tCDS\t27202\t27387\t.\t+\t0\tID=cds-YP_009724394.1;Parent=gene-GU280_gp06;Dbxref=Genbank:YP_009724394.1,GeneID:43740572;Name=YP_009724394.1;gbkey=CDS;gene=ORF6;locus_tag=GU280_gp06;product=ORF6 protein;protein_id=YP_009724394.1\n",
            "NC_045512.2\tRefSeq\tgene\t27202\t27387\t.\t+\t.\tID=ORF6\n",
            "NC_045512.2\tRefSeq\tCDS\t27394\t27759\t.\t+\t0\tID=cds-YP_009724395.1;Parent=gene-GU280_gp07;Dbxref=Genbank:YP_009724395.1,GeneID:43740573;Name=YP_009724395.1;gbkey=CDS;gene=ORF7a;locus_tag=GU280_gp07;product=ORF7a protein;protein_id=YP_009724395.1\n",
            "NC_045512.2\tRefSeq\tgene\t27394\t27759\t.\t+\t.\tID=ORF7a\n",
            "NC_045512.2\tRefSeq\tCDS\t27756\t27887\t.\t+\t0\tID=cds-YP_009725318.1;Parent=gene-GU280_gp08;Dbxref=Genbank:YP_009725318.1,GeneID:43740574;Name=YP_009725318.1;gbkey=CDS;gene=ORF7b;locus_tag=GU280_gp08;product=ORF7b;protein_id=YP_009725318.1\n",
            "NC_045512.2\tRefSeq\tgene\t27756\t27887\t.\t+\t.\tID=ORF7b\n",
            "NC_045512.2\tRefSeq\tCDS\t27894\t28259\t.\t+\t0\tID=cds-YP_009724396.1;Parent=gene-GU280_gp09;Dbxref=Genbank:YP_009724396.1,GeneID:43740577;Name=YP_009724396.1;gbkey=CDS;gene=ORF8;locus_tag=GU280_gp09;product=ORF8 protein;protein_id=YP_009724396.1\n",
            "NC_045512.2\tRefSeq\tgene\t27894\t28259\t.\t+\t.\tID=ORF8NC_045512.2\tRefSeq\tCDS\t28274\t29533\t.\t+\t0\tID=cds-YP_009724397.2;Parent=gene-GU280_gp10;Dbxref=Genbank:YP_009724397.2,GeneID:43740575;Name=YP_009724397.2;Note=ORF9%3B structural protein;gbkey=CDS;gene=N;locus_tag=GU280_gp10;product=nucleocapsid phosphoprotein;protein_id=YP_009724397.2\n",
            "NC_045512.2\tRefSeq\tgene\t28274\t29533\t.\t+\t.\tID=geneN\n",
            "NC_045512.2\tRefSeq\tCDS\t29558\t29674\t.\t+\t0\tID=cds-YP_009725255.1;Parent=gene-GU280_gp11;Dbxref=Genbank:YP_009725255.1,GeneID:43740576;Name=YP_009725255.1;gbkey=CDS;gene=ORF10;locus_tag=GU280_gp11;product=ORF10 protein;protein_id=YP_009725255.1\n",
            "NC_045512.2\tRefSeq\tgene\t29558\t29674\t.\t+\t.\tID=ORF10\n",
            "NC_045512.2\tRefSeq\tstem_loop\t29609\t29644\t.\t+\t.\tID=id-GU280_gp11;Dbxref=GeneID:43740576;function=Coronavirus 3' UTR pseudoknot stem-loop 1;gbkey=stem_loop;gene=ORF10;inference=COORDINATES: profile::Rfam-release-14.1:RF00165%2CInfernal:1.1.2;locus_tag=GU280_gp11\n",
            "NC_045512.2\tRefSeq\tstem_loop\t29629\t29657\t.\t+\t.\tID=id-GU280_gp11-2;Dbxref=GeneID:43740576;function=Coronavirus 3' UTR pseudoknot stem-loop 2;gbkey=stem_loop;gene=ORF10;inference=COORDINATES: profile::Rfam-release-14.1:RF00165%2CInfernal:1.1.2;locus_tag=GU280_gp11\n"
          ]
        }
      ]
    },
    {
      "cell_type": "markdown",
      "metadata": {
        "id": "wMVytNdnFNgE"
      },
      "source": [
        "Learning variables"
      ]
    },
    {
      "cell_type": "code",
      "metadata": {
        "colab": {
          "base_uri": "https://localhost:8080/"
        },
        "id": "pghUlR2eCmGl",
        "outputId": "9a91680f-8c7a-4f66-b2ed-bcf8220975a3"
      },
      "source": [
        "a = 10 + 8\n",
        "print(a)\n",
        "\n",
        "beyonce = 'the queen'\n",
        "print(\"The truth is that Beyonce is\", beyonce)\n",
        "first = 'beyonce'\n",
        "last = 'knowles'\n",
        "full = first + last + str(a)\n",
        "print(full)"
      ],
      "execution_count": null,
      "outputs": [
        {
          "output_type": "stream",
          "name": "stdout",
          "text": [
            "18\n",
            "The truth is that Beyonce is the queen\n",
            "beyonceknowles18\n"
          ]
        }
      ]
    },
    {
      "cell_type": "markdown",
      "metadata": {
        "id": "w2lW-JTeFvKb"
      },
      "source": [
        "Lists"
      ]
    },
    {
      "cell_type": "code",
      "metadata": {
        "colab": {
          "base_uri": "https://localhost:8080/"
        },
        "id": "eATfnYAaCtW8",
        "outputId": "fe9f6a64-bbde-4a72-af0f-6bfb63a7fdbf"
      },
      "source": [
        "# create a new list called 'beatles'\n",
        "beatles = ['john', 'paul', 'george', 'ringo', 'stuart', 1, 2, ['keith', 'mick']]\n",
        "counter = 1\n",
        "# loop over the beatles list\n",
        "for item in beatles:\n",
        "  print(\"Item number\", counter, \"in our list:\", item)\n",
        "  counter = counter + 1"
      ],
      "execution_count": null,
      "outputs": [
        {
          "output_type": "stream",
          "name": "stdout",
          "text": [
            "Item number 1 in our list: john\n",
            "Item number 2 in our list: paul\n",
            "Item number 3 in our list: george\n",
            "Item number 4 in our list: ringo\n",
            "Item number 5 in our list: stuart\n",
            "Item number 6 in our list: 1\n",
            "Item number 7 in our list: 2\n",
            "Item number 8 in our list: ['keith', 'mick']\n"
          ]
        }
      ]
    },
    {
      "cell_type": "code",
      "metadata": {
        "colab": {
          "base_uri": "https://localhost:8080/"
        },
        "id": "_6JW7D9kFxcR",
        "outputId": "6c4de20d-f918-43ea-d554-9b896ba1a14a"
      },
      "source": [
        "# print a list\n",
        "print(beatles)"
      ],
      "execution_count": null,
      "outputs": [
        {
          "output_type": "stream",
          "name": "stdout",
          "text": [
            "['john', 'paul', 'george', 'ringo', 'stuart', 1, 2, ['keith', 'mick']]\n"
          ]
        }
      ]
    },
    {
      "cell_type": "code",
      "metadata": {
        "colab": {
          "base_uri": "https://localhost:8080/",
          "height": 35
        },
        "id": "ODRGp_OkGbxr",
        "outputId": "59bcffcf-b5c9-45da-b47a-afc1b7e22495"
      },
      "source": [
        "# print using format \"f\" function\n",
        "f\"The first Beatle in our list is {beatles[4]}\"\n",
        "f\"This person is not a Beatle: {beatles[7][1]}\""
      ],
      "execution_count": null,
      "outputs": [
        {
          "output_type": "execute_result",
          "data": {
            "application/vnd.google.colaboratory.intrinsic+json": {
              "type": "string"
            },
            "text/plain": [
              "'This person is not a Beatle: mick'"
            ]
          },
          "metadata": {},
          "execution_count": 27
        }
      ]
    },
    {
      "cell_type": "code",
      "metadata": {
        "colab": {
          "base_uri": "https://localhost:8080/"
        },
        "id": "10LkSNjwHTAM",
        "outputId": "f72673b4-9bed-43b9-9d1c-d72f97e08454"
      },
      "source": [
        "# let's grab paul, george, and ringo\n",
        "print(beatles[1:4])"
      ],
      "execution_count": null,
      "outputs": [
        {
          "output_type": "stream",
          "name": "stdout",
          "text": [
            "['paul', 'george', 'ringo']\n"
          ]
        }
      ]
    },
    {
      "cell_type": "code",
      "metadata": {
        "colab": {
          "base_uri": "https://localhost:8080/"
        },
        "id": "eJ74dUqIJS-3",
        "outputId": "11c7c731-d6bb-4829-f01c-cf845f34a186"
      },
      "source": [
        "kids = \"Kawala and Waiswa\"\n",
        "print(kids)\n",
        "son = kids[11:]\n",
        "print(son)"
      ],
      "execution_count": null,
      "outputs": [
        {
          "output_type": "stream",
          "name": "stdout",
          "text": [
            "Kawala and Waiswa\n",
            "Waiswa\n"
          ]
        }
      ]
    },
    {
      "cell_type": "markdown",
      "metadata": {
        "id": "BHdGMaTYKk1c"
      },
      "source": [
        "Open and read the Covid genome"
      ]
    },
    {
      "cell_type": "code",
      "metadata": {
        "id": "yDZCXYYWK2Ka"
      },
      "source": [
        "# make a variable to hold the Covid genome\n",
        "genome_sequence = ''\n",
        "\n",
        "# open the covid genome file\n",
        "with open('F2021_python_bootcamp/data/covid.fasta', 'r') as genome_file:\n",
        "  # skip the first line\n",
        "  next(genome_file)\n",
        "  # loop over and read each line in the file\n",
        "  for line in genome_file:\n",
        "    # remove line breaks\n",
        "    line = line.rstrip()\n",
        "    # storing the sequence in 'genome_sequence'\n",
        "    genome_sequence += line"
      ],
      "execution_count": null,
      "outputs": []
    },
    {
      "cell_type": "code",
      "metadata": {
        "colab": {
          "base_uri": "https://localhost:8080/"
        },
        "id": "brV2yQ0KOitb",
        "outputId": "c07d8524-9b8f-4416-9cd0-880744e27e9c"
      },
      "source": [
        "print(len(genome_sequence))"
      ],
      "execution_count": null,
      "outputs": [
        {
          "output_type": "stream",
          "name": "stdout",
          "text": [
            "29903\n"
          ]
        }
      ]
    },
    {
      "cell_type": "markdown",
      "metadata": {
        "id": "C5NCDOUiSw2l"
      },
      "source": [
        "Open and read the Covid GFF3 file, which shows where all the genes are located\n"
      ]
    },
    {
      "cell_type": "code",
      "metadata": {
        "colab": {
          "base_uri": "https://localhost:8080/"
        },
        "id": "aWGwYe00OmQa",
        "outputId": "d0538901-aeb5-45ca-aef1-0b712e1ae6a0"
      },
      "source": [
        "# open and read the GFF3 file\n",
        "with open('F2021_python_bootcamp/data/covid_genes.gff3', 'r') as GFF:\n",
        "  for line in GFF:\n",
        "    # strip the line breaks\n",
        "    line = line.rstrip()\n",
        "    fields  = line.split('\\t')\n",
        "    feature = fields[2]\n",
        "    start   = int(fields[3])\n",
        "    end     = int(fields[4])\n",
        "    attributes = fields[8]\n",
        "\n",
        "    # we only want 'gene' features\n",
        "    if(feature == 'gene'):\n",
        "      # extract the gene name\n",
        "      a = attributes.split('=')\n",
        "      gene_name = a[1]\n",
        "\n",
        "      if(gene_name == 'spike glycoprotein'):\n",
        "        #print(feature, start, end, gene_name)\n",
        "      \n",
        "        # extract the gene sequence\n",
        "        feature_sequence = genome_sequence[start-1:end]\n",
        "        print('>' + gene_name)\n",
        "        print(feature_sequence)\n",
        "\n",
        "    else:\n",
        "      continue"
      ],
      "execution_count": null,
      "outputs": [
        {
          "output_type": "stream",
          "name": "stdout",
          "text": [
            ">spike glycoprotein\n",
            "ATGTTTGTTTTTCTTGTTTTATTGCCACTAGTCTCTAGTCAGTGTGTTAATCTTACAACCAGAACTCAATTACCCCCTGCATACACTAATTCTTTCACACGTGGTGTTTATTACCCTGACAAAGTTTTCAGATCCTCAGTTTTACATTCAACTCAGGACTTGTTCTTACCTTTCTTTTCCAATGTTACTTGGTTCCATGCTATACATGTCTCTGGGACCAATGGTACTAAGAGGTTTGATAACCCTGTCCTACCATTTAATGATGGTGTTTATTTTGCTTCCACTGAGAAGTCTAACATAATAAGAGGCTGGATTTTTGGTACTACTTTAGATTCGAAGACCCAGTCCCTACTTATTGTTAATAACGCTACTAATGTTGTTATTAAAGTCTGTGAATTTCAATTTTGTAATGATCCATTTTTGGGTGTTTATTACCACAAAAACAACAAAAGTTGGATGGAAAGTGAGTTCAGAGTTTATTCTAGTGCGAATAATTGCACTTTTGAATATGTCTCTCAGCCTTTTCTTATGGACCTTGAAGGAAAACAGGGTAATTTCAAAAATCTTAGGGAATTTGTGTTTAAGAATATTGATGGTTATTTTAAAATATATTCTAAGCACACGCCTATTAATTTAGTGCGTGATCTCCCTCAGGGTTTTTCGGCTTTAGAACCATTGGTAGATTTGCCAATAGGTATTAACATCACTAGGTTTCAAACTTTACTTGCTTTACATAGAAGTTATTTGACTCCTGGTGATTCTTCTTCAGGTTGGACAGCTGGTGCTGCAGCTTATTATGTGGGTTATCTTCAACCTAGGACTTTTCTATTAAAATATAATGAAAATGGAACCATTACAGATGCTGTAGACTGTGCACTTGACCCTCTCTCAGAAACAAAGTGTACGTTGAAATCCTTCACTGTAGAAAAAGGAATCTATCAAACTTCTAACTTTAGAGTCCAACCAACAGAATCTATTGTTAGATTTCCTAATATTACAAACTTGTGCCCTTTTGGTGAAGTTTTTAACGCCACCAGATTTGCATCTGTTTATGCTTGGAACAGGAAGAGAATCAGCAACTGTGTTGCTGATTATTCTGTCCTATATAATTCCGCATCATTTTCCACTTTTAAGTGTTATGGAGTGTCTCCTACTAAATTAAATGATCTCTGCTTTACTAATGTCTATGCAGATTCATTTGTAATTAGAGGTGATGAAGTCAGACAAATCGCTCCAGGGCAAACTGGAAAGATTGCTGATTATAATTATAAATTACCAGATGATTTTACAGGCTGCGTTATAGCTTGGAATTCTAACAATCTTGATTCTAAGGTTGGTGGTAATTATAATTACCTGTATAGATTGTTTAGGAAGTCTAATCTCAAACCTTTTGAGAGAGATATTTCAACTGAAATCTATCAGGCCGGTAGCACACCTTGTAATGGTGTTGAAGGTTTTAATTGTTACTTTCCTTTACAATCATATGGTTTCCAACCCACTAATGGTGTTGGTTACCAACCATACAGAGTAGTAGTACTTTCTTTTGAACTTCTACATGCACCAGCAACTGTTTGTGGACCTAAAAAGTCTACTAATTTGGTTAAAAACAAATGTGTCAATTTCAACTTCAATGGTTTAACAGGCACAGGTGTTCTTACTGAGTCTAACAAAAAGTTTCTGCCTTTCCAACAATTTGGCAGAGACATTGCTGACACTACTGATGCTGTCCGTGATCCACAGACACTTGAGATTCTTGACATTACACCATGTTCTTTTGGTGGTGTCAGTGTTATAACACCAGGAACAAATACTTCTAACCAGGTTGCTGTTCTTTATCAGGATGTTAACTGCACAGAAGTCCCTGTTGCTATTCATGCAGATCAACTTACTCCTACTTGGCGTGTTTATTCTACAGGTTCTAATGTTTTTCAAACACGTGCAGGCTGTTTAATAGGGGCTGAACATGTCAACAACTCATATGAGTGTGACATACCCATTGGTGCAGGTATATGCGCTAGTTATCAGACTCAGACTAATTCTCCTCGGCGGGCACGTAGTGTAGCTAGTCAATCCATCATTGCCTACACTATGTCACTTGGTGCAGAAAATTCAGTTGCTTACTCTAATAACTCTATTGCCATACCCACAAATTTTACTATTAGTGTTACCACAGAAATTCTACCAGTGTCTATGACCAAGACATCAGTAGATTGTACAATGTACATTTGTGGTGATTCAACTGAATGCAGCAATCTTTTGTTGCAATATGGCAGTTTTTGTACACAATTAAACCGTGCTTTAACTGGAATAGCTGTTGAACAAGACAAAAACACCCAAGAAGTTTTTGCACAAGTCAAACAAATTTACAAAACACCACCAATTAAAGATTTTGGTGGTTTTAATTTTTCACAAATATTACCAGATCCATCAAAACCAAGCAAGAGGTCATTTATTGAAGATCTACTTTTCAACAAAGTGACACTTGCAGATGCTGGCTTCATCAAACAATATGGTGATTGCCTTGGTGATATTGCTGCTAGAGACCTCATTTGTGCACAAAAGTTTAACGGCCTTACTGTTTTGCCACCTTTGCTCACAGATGAAATGATTGCTCAATACACTTCTGCACTGTTAGCGGGTACAATCACTTCTGGTTGGACCTTTGGTGCAGGTGCTGCATTACAAATACCATTTGCTATGCAAATGGCTTATAGGTTTAATGGTATTGGAGTTACACAGAATGTTCTCTATGAGAACCAAAAATTGATTGCCAACCAATTTAATAGTGCTATTGGCAAAATTCAAGACTCACTTTCTTCCACAGCAAGTGCACTTGGAAAACTTCAAGATGTGGTCAACCAAAATGCACAAGCTTTAAACACGCTTGTTAAACAACTTAGCTCCAATTTTGGTGCAATTTCAAGTGTTTTAAATGATATCCTTTCACGTCTTGACAAAGTTGAGGCTGAAGTGCAAATTGATAGGTTGATCACAGGCAGACTTCAAAGTTTGCAGACATATGTGACTCAACAATTAATTAGAGCTGCAGAAATCAGAGCTTCTGCTAATCTTGCTGCTACTAAAATGTCAGAGTGTGTACTTGGACAATCAAAAAGAGTTGATTTTTGTGGAAAGGGCTATCATCTTATGTCCTTCCCTCAGTCAGCACCTCATGGTGTAGTCTTCTTGCATGTGACTTATGTCCCTGCACAAGAAAAGAACTTCACAACTGCTCCTGCCATTTGTCATGATGGAAAAGCACACTTTCCTCGTGAAGGTGTCTTTGTTTCAAATGGCACACACTGGTTTGTAACACAAAGGAATTTTTATGAACCACAAATCATTACTACAGACAACACATTTGTGTCTGGTAACTGTGATGTTGTAATAGGAATTGTCAACAACACAGTTTATGATCCTTTGCAACCTGAATTAGACTCATTCAAGGAGGAGTTAGATAAATATTTTAAGAATCATACATCACCAGATGTTGATTTAGGTGACATCTCTGGCATTAATGCTTCAGTTGTAAACATTCAAAAAGAAATTGACCGCCTCAATGAGGTTGCCAAGAATTTAAATGAATCTCTCATCGATCTCCAAGAACTTGGAAAGTATGAGCAGTATATAAAATGGCCATGGTACATTTGGCTAGGTTTTATAGCTGGCTTGATTGCCATAGTAATGGTGACAATTATGCTTTGCTGTATGACCAGTTGCTGTAGTTGTCTCAAGGGCTGTTGTTCTTGTGGATCCTGCTGCAAATTTGATGAAGACGACTCTGAGCCAGTGCTCAAAGGAGTCAAATTACATTACACATAA\n"
          ]
        }
      ]
    },
    {
      "cell_type": "code",
      "metadata": {
        "id": "ayoxOCRtWBxf"
      },
      "source": [
        ""
      ],
      "execution_count": null,
      "outputs": []
    }
  ]
}